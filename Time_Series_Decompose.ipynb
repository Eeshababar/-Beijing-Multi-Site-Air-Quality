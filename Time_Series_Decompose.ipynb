{
  "nbformat": 4,
  "nbformat_minor": 0,
  "metadata": {
    "colab": {
      "provenance": []
    },
    "kernelspec": {
      "name": "python3",
      "display_name": "Python 3"
    }
  },
  "cells": [
    {
      "cell_type": "code",
      "source": [
        "!pip install download"
      ],
      "metadata": {
        "colab": {
          "base_uri": "https://localhost:8080/"
        },
        "id": "yo_BINHHDWVx",
        "outputId": "857a936b-46a6-4463-8e8c-a983c5397713"
      },
      "execution_count": 29,
      "outputs": [
        {
          "output_type": "stream",
          "name": "stdout",
          "text": [
            "Requirement already satisfied: download in /usr/local/lib/python3.12/dist-packages (0.3.5)\n",
            "Requirement already satisfied: tqdm in /usr/local/lib/python3.12/dist-packages (from download) (4.67.1)\n",
            "Requirement already satisfied: six in /usr/local/lib/python3.12/dist-packages (from download) (1.17.0)\n",
            "Requirement already satisfied: requests in /usr/local/lib/python3.12/dist-packages (from download) (2.32.4)\n",
            "Requirement already satisfied: charset_normalizer<4,>=2 in /usr/local/lib/python3.12/dist-packages (from requests->download) (3.4.4)\n",
            "Requirement already satisfied: idna<4,>=2.5 in /usr/local/lib/python3.12/dist-packages (from requests->download) (3.11)\n",
            "Requirement already satisfied: urllib3<3,>=1.21.1 in /usr/local/lib/python3.12/dist-packages (from requests->download) (2.5.0)\n",
            "Requirement already satisfied: certifi>=2017.4.17 in /usr/local/lib/python3.12/dist-packages (from requests->download) (2025.10.5)\n"
          ]
        }
      ]
    },
    {
      "cell_type": "code",
      "source": [
        "from download import download\n",
        "path = download('https://archive.ics.uci.edu/ml/machine-learning-databases/00501/PRSA2017_Data_20130301-20170228.zip', '/tmp/aq', kind=\"zip\")"
      ],
      "metadata": {
        "colab": {
          "base_uri": "https://localhost:8080/"
        },
        "id": "KhdkWfOSDhuK",
        "outputId": "5db586a6-7d4c-417f-b1b0-964eb09c2955"
      },
      "execution_count": 30,
      "outputs": [
        {
          "output_type": "stream",
          "name": "stdout",
          "text": [
            "Replace is False and data exists, so doing nothing. Use replace=True to re-download the data.\n"
          ]
        }
      ]
    },
    {
      "cell_type": "code",
      "source": [
        "from __future__ import absolute_import, division, print_function, unicode_literals\n",
        "\n",
        "import seaborn as sns\n",
        "\n",
        "import matplotlib as mpl\n",
        "import matplotlib.pyplot as plt\n",
        "import numpy as np\n",
        "import os\n",
        "from datetime import datetime\n",
        "\n",
        "import pandas as pd\n",
        "\n",
        "from download import download\n",
        "\n",
        "mpl.rcParams['figure.figsize'] = (8, 6)\n",
        "mpl.rcParams['axes.grid'] = False"
      ],
      "metadata": {
        "id": "p9OknHeWBPn9"
      },
      "execution_count": 31,
      "outputs": []
    },
    {
      "cell_type": "code",
      "source": [
        "!ls -alrt /tmp/aq/PRSA_Data_20130301-20170228"
      ],
      "metadata": {
        "colab": {
          "base_uri": "https://localhost:8080/"
        },
        "id": "1f_-0I94Dqt8",
        "outputId": "9295ae17-1fd6-461c-b9ea-d986c590a82f"
      },
      "execution_count": 32,
      "outputs": [
        {
          "output_type": "stream",
          "name": "stdout",
          "text": [
            "total 31780\n",
            "drwxr-xr-x 3 root root    4096 Oct 28 13:30 ..\n",
            "-rw-r--r-- 1 root root 2835916 Oct 28 13:30 PRSA_Data_Aotizhongxin_20130301-20170228.csv\n",
            "-rw-r--r-- 1 root root 2722295 Oct 28 13:30 PRSA_Data_Changping_20130301-20170228.csv\n",
            "-rw-r--r-- 1 root root 2675856 Oct 28 13:30 PRSA_Data_Dingling_20130301-20170228.csv\n",
            "-rw-r--r-- 1 root root 2636684 Oct 28 13:30 PRSA_Data_Dongsi_20130301-20170228.csv\n",
            "-rw-r--r-- 1 root root 2695860 Oct 28 13:30 PRSA_Data_Guanyuan_20130301-20170228.csv\n",
            "-rw-r--r-- 1 root root 2654625 Oct 28 13:30 PRSA_Data_Gucheng_20130301-20170228.csv\n",
            "-rw-r--r-- 1 root root 2641027 Oct 28 13:30 PRSA_Data_Huairou_20130301-20170228.csv\n",
            "-rw-r--r-- 1 root root 2839705 Oct 28 13:30 PRSA_Data_Nongzhanguan_20130301-20170228.csv\n",
            "-rw-r--r-- 1 root root 2620654 Oct 28 13:30 PRSA_Data_Shunyi_20130301-20170228.csv\n",
            "-rw-r--r-- 1 root root 2655061 Oct 28 13:30 PRSA_Data_Tiantan_20130301-20170228.csv\n",
            "-rw-r--r-- 1 root root 2659544 Oct 28 13:30 PRSA_Data_Wanliu_20130301-20170228.csv\n",
            "drwxr-xr-x 2 root root    4096 Oct 28 13:30 .\n",
            "-rw-r--r-- 1 root root 2871076 Oct 28 13:30 PRSA_Data_Wanshouxigong_20130301-20170228.csv\n"
          ]
        }
      ]
    },
    {
      "cell_type": "code",
      "source": [
        "path = download('https://archive.ics.uci.edu/ml/machine-learning-databases/00501/PRSA2017_Data_20130301-20170228.zip', '/tmp/aq', kind=\"zip\")\n",
        ""
      ],
      "metadata": {
        "colab": {
          "base_uri": "https://localhost:8080/"
        },
        "id": "NLcrfwYKCwlj",
        "outputId": "9f5ed273-f1ce-489f-e48c-376ef439cd0e"
      },
      "execution_count": 33,
      "outputs": [
        {
          "output_type": "stream",
          "name": "stdout",
          "text": [
            "Replace is False and data exists, so doing nothing. Use replace=True to re-download the data.\n"
          ]
        }
      ]
    },
    {
      "cell_type": "code",
      "source": [
        "df = pd.read_csv('/tmp/aq/PRSA_Data_20130301-20170228/PRSA_Data_Dingling_20130301-20170228.csv', encoding='ISO-8859-1')\n",
        ""
      ],
      "metadata": {
        "id": "UzAbOE8pC1Nq"
      },
      "execution_count": 34,
      "outputs": []
    },
    {
      "cell_type": "code",
      "source": [
        "def convert_to_date(x):\n",
        "\treturn datetime.strptime(x, '%Y %m %d %H')\n",
        ""
      ],
      "metadata": {
        "id": "IPUisg3lC8Pg"
      },
      "execution_count": 36,
      "outputs": []
    },
    {
      "cell_type": "code",
      "source": [
        "aq_df = pd.read_csv('/tmp/aq/PRSA_Data_20130301-20170228/PRSA_Data_Dingling_20130301-20170228.csv', parse_dates = [['year', 'month', 'day', 'hour']],date_parser=convert_to_date, keep_date_col=True)\n",
        ""
      ],
      "metadata": {
        "colab": {
          "base_uri": "https://localhost:8080/"
        },
        "id": "wODrSia3C9JH",
        "outputId": "903b6aa7-0d56-486e-cd4f-119aa40eb15b"
      },
      "execution_count": 37,
      "outputs": [
        {
          "output_type": "stream",
          "name": "stderr",
          "text": [
            "/tmp/ipython-input-228315203.py:1: FutureWarning: The 'keep_date_col' keyword in pd.read_csv is deprecated and will be removed in a future version. Explicitly remove unwanted columns after parsing instead.\n",
            "  aq_df = pd.read_csv('/tmp/aq/PRSA_Data_20130301-20170228/PRSA_Data_Dingling_20130301-20170228.csv', parse_dates = [['year', 'month', 'day', 'hour']],date_parser=convert_to_date, keep_date_col=True)\n",
            "/tmp/ipython-input-228315203.py:1: FutureWarning: Support for nested sequences for 'parse_dates' in pd.read_csv is deprecated. Combine the desired columns with pd.to_datetime after parsing instead.\n",
            "  aq_df = pd.read_csv('/tmp/aq/PRSA_Data_20130301-20170228/PRSA_Data_Dingling_20130301-20170228.csv', parse_dates = [['year', 'month', 'day', 'hour']],date_parser=convert_to_date, keep_date_col=True)\n",
            "/tmp/ipython-input-228315203.py:1: FutureWarning: The argument 'date_parser' is deprecated and will be removed in a future version. Please use 'date_format' instead, or read your data in as 'object' dtype and then call 'to_datetime'.\n",
            "  aq_df = pd.read_csv('/tmp/aq/PRSA_Data_20130301-20170228/PRSA_Data_Dingling_20130301-20170228.csv', parse_dates = [['year', 'month', 'day', 'hour']],date_parser=convert_to_date, keep_date_col=True)\n"
          ]
        }
      ]
    },
    {
      "cell_type": "code",
      "source": [
        "\n",
        "aq_df.head()\n"
      ],
      "metadata": {
        "colab": {
          "base_uri": "https://localhost:8080/",
          "height": 206
        },
        "id": "Va6DnLu4DCo_",
        "outputId": "ced73d3b-a99e-467d-dd04-e9ca901d273c"
      },
      "execution_count": 38,
      "outputs": [
        {
          "output_type": "execute_result",
          "data": {
            "text/plain": [
              "  year_month_day_hour  No  year month day hour  PM2.5  PM10  SO2  NO2     CO  \\\n",
              "0 2013-03-01 00:00:00   1  2013     3   1    0    4.0   4.0  3.0  NaN  200.0   \n",
              "1 2013-03-01 01:00:00   2  2013     3   1    1    7.0   7.0  3.0  NaN  200.0   \n",
              "2 2013-03-01 02:00:00   3  2013     3   1    2    5.0   5.0  3.0  2.0  200.0   \n",
              "3 2013-03-01 03:00:00   4  2013     3   1    3    6.0   6.0  3.0  NaN  200.0   \n",
              "4 2013-03-01 04:00:00   5  2013     3   1    4    5.0   5.0  3.0  NaN  200.0   \n",
              "\n",
              "     O3  TEMP    PRES  DEWP  RAIN   wd  WSPM   station  \n",
              "0  82.0  -2.3  1020.8 -19.7   0.0    E   0.5  Dingling  \n",
              "1  80.0  -2.5  1021.3 -19.0   0.0  ENE   0.7  Dingling  \n",
              "2  79.0  -3.0  1021.3 -19.9   0.0  ENE   0.2  Dingling  \n",
              "3  79.0  -3.6  1021.8 -19.1   0.0  NNE   1.0  Dingling  \n",
              "4  81.0  -3.5  1022.3 -19.4   0.0    N   2.1  Dingling  "
            ],
            "text/html": [
              "\n",
              "  <div id=\"df-1dcbc878-2fa1-45a3-a3da-b6e1598d40da\" class=\"colab-df-container\">\n",
              "    <div>\n",
              "<style scoped>\n",
              "    .dataframe tbody tr th:only-of-type {\n",
              "        vertical-align: middle;\n",
              "    }\n",
              "\n",
              "    .dataframe tbody tr th {\n",
              "        vertical-align: top;\n",
              "    }\n",
              "\n",
              "    .dataframe thead th {\n",
              "        text-align: right;\n",
              "    }\n",
              "</style>\n",
              "<table border=\"1\" class=\"dataframe\">\n",
              "  <thead>\n",
              "    <tr style=\"text-align: right;\">\n",
              "      <th></th>\n",
              "      <th>year_month_day_hour</th>\n",
              "      <th>No</th>\n",
              "      <th>year</th>\n",
              "      <th>month</th>\n",
              "      <th>day</th>\n",
              "      <th>hour</th>\n",
              "      <th>PM2.5</th>\n",
              "      <th>PM10</th>\n",
              "      <th>SO2</th>\n",
              "      <th>NO2</th>\n",
              "      <th>CO</th>\n",
              "      <th>O3</th>\n",
              "      <th>TEMP</th>\n",
              "      <th>PRES</th>\n",
              "      <th>DEWP</th>\n",
              "      <th>RAIN</th>\n",
              "      <th>wd</th>\n",
              "      <th>WSPM</th>\n",
              "      <th>station</th>\n",
              "    </tr>\n",
              "  </thead>\n",
              "  <tbody>\n",
              "    <tr>\n",
              "      <th>0</th>\n",
              "      <td>2013-03-01 00:00:00</td>\n",
              "      <td>1</td>\n",
              "      <td>2013</td>\n",
              "      <td>3</td>\n",
              "      <td>1</td>\n",
              "      <td>0</td>\n",
              "      <td>4.0</td>\n",
              "      <td>4.0</td>\n",
              "      <td>3.0</td>\n",
              "      <td>NaN</td>\n",
              "      <td>200.0</td>\n",
              "      <td>82.0</td>\n",
              "      <td>-2.3</td>\n",
              "      <td>1020.8</td>\n",
              "      <td>-19.7</td>\n",
              "      <td>0.0</td>\n",
              "      <td>E</td>\n",
              "      <td>0.5</td>\n",
              "      <td>Dingling</td>\n",
              "    </tr>\n",
              "    <tr>\n",
              "      <th>1</th>\n",
              "      <td>2013-03-01 01:00:00</td>\n",
              "      <td>2</td>\n",
              "      <td>2013</td>\n",
              "      <td>3</td>\n",
              "      <td>1</td>\n",
              "      <td>1</td>\n",
              "      <td>7.0</td>\n",
              "      <td>7.0</td>\n",
              "      <td>3.0</td>\n",
              "      <td>NaN</td>\n",
              "      <td>200.0</td>\n",
              "      <td>80.0</td>\n",
              "      <td>-2.5</td>\n",
              "      <td>1021.3</td>\n",
              "      <td>-19.0</td>\n",
              "      <td>0.0</td>\n",
              "      <td>ENE</td>\n",
              "      <td>0.7</td>\n",
              "      <td>Dingling</td>\n",
              "    </tr>\n",
              "    <tr>\n",
              "      <th>2</th>\n",
              "      <td>2013-03-01 02:00:00</td>\n",
              "      <td>3</td>\n",
              "      <td>2013</td>\n",
              "      <td>3</td>\n",
              "      <td>1</td>\n",
              "      <td>2</td>\n",
              "      <td>5.0</td>\n",
              "      <td>5.0</td>\n",
              "      <td>3.0</td>\n",
              "      <td>2.0</td>\n",
              "      <td>200.0</td>\n",
              "      <td>79.0</td>\n",
              "      <td>-3.0</td>\n",
              "      <td>1021.3</td>\n",
              "      <td>-19.9</td>\n",
              "      <td>0.0</td>\n",
              "      <td>ENE</td>\n",
              "      <td>0.2</td>\n",
              "      <td>Dingling</td>\n",
              "    </tr>\n",
              "    <tr>\n",
              "      <th>3</th>\n",
              "      <td>2013-03-01 03:00:00</td>\n",
              "      <td>4</td>\n",
              "      <td>2013</td>\n",
              "      <td>3</td>\n",
              "      <td>1</td>\n",
              "      <td>3</td>\n",
              "      <td>6.0</td>\n",
              "      <td>6.0</td>\n",
              "      <td>3.0</td>\n",
              "      <td>NaN</td>\n",
              "      <td>200.0</td>\n",
              "      <td>79.0</td>\n",
              "      <td>-3.6</td>\n",
              "      <td>1021.8</td>\n",
              "      <td>-19.1</td>\n",
              "      <td>0.0</td>\n",
              "      <td>NNE</td>\n",
              "      <td>1.0</td>\n",
              "      <td>Dingling</td>\n",
              "    </tr>\n",
              "    <tr>\n",
              "      <th>4</th>\n",
              "      <td>2013-03-01 04:00:00</td>\n",
              "      <td>5</td>\n",
              "      <td>2013</td>\n",
              "      <td>3</td>\n",
              "      <td>1</td>\n",
              "      <td>4</td>\n",
              "      <td>5.0</td>\n",
              "      <td>5.0</td>\n",
              "      <td>3.0</td>\n",
              "      <td>NaN</td>\n",
              "      <td>200.0</td>\n",
              "      <td>81.0</td>\n",
              "      <td>-3.5</td>\n",
              "      <td>1022.3</td>\n",
              "      <td>-19.4</td>\n",
              "      <td>0.0</td>\n",
              "      <td>N</td>\n",
              "      <td>2.1</td>\n",
              "      <td>Dingling</td>\n",
              "    </tr>\n",
              "  </tbody>\n",
              "</table>\n",
              "</div>\n",
              "    <div class=\"colab-df-buttons\">\n",
              "\n",
              "  <div class=\"colab-df-container\">\n",
              "    <button class=\"colab-df-convert\" onclick=\"convertToInteractive('df-1dcbc878-2fa1-45a3-a3da-b6e1598d40da')\"\n",
              "            title=\"Convert this dataframe to an interactive table.\"\n",
              "            style=\"display:none;\">\n",
              "\n",
              "  <svg xmlns=\"http://www.w3.org/2000/svg\" height=\"24px\" viewBox=\"0 -960 960 960\">\n",
              "    <path d=\"M120-120v-720h720v720H120Zm60-500h600v-160H180v160Zm220 220h160v-160H400v160Zm0 220h160v-160H400v160ZM180-400h160v-160H180v160Zm440 0h160v-160H620v160ZM180-180h160v-160H180v160Zm440 0h160v-160H620v160Z\"/>\n",
              "  </svg>\n",
              "    </button>\n",
              "\n",
              "  <style>\n",
              "    .colab-df-container {\n",
              "      display:flex;\n",
              "      gap: 12px;\n",
              "    }\n",
              "\n",
              "    .colab-df-convert {\n",
              "      background-color: #E8F0FE;\n",
              "      border: none;\n",
              "      border-radius: 50%;\n",
              "      cursor: pointer;\n",
              "      display: none;\n",
              "      fill: #1967D2;\n",
              "      height: 32px;\n",
              "      padding: 0 0 0 0;\n",
              "      width: 32px;\n",
              "    }\n",
              "\n",
              "    .colab-df-convert:hover {\n",
              "      background-color: #E2EBFA;\n",
              "      box-shadow: 0px 1px 2px rgba(60, 64, 67, 0.3), 0px 1px 3px 1px rgba(60, 64, 67, 0.15);\n",
              "      fill: #174EA6;\n",
              "    }\n",
              "\n",
              "    .colab-df-buttons div {\n",
              "      margin-bottom: 4px;\n",
              "    }\n",
              "\n",
              "    [theme=dark] .colab-df-convert {\n",
              "      background-color: #3B4455;\n",
              "      fill: #D2E3FC;\n",
              "    }\n",
              "\n",
              "    [theme=dark] .colab-df-convert:hover {\n",
              "      background-color: #434B5C;\n",
              "      box-shadow: 0px 1px 3px 1px rgba(0, 0, 0, 0.15);\n",
              "      filter: drop-shadow(0px 1px 2px rgba(0, 0, 0, 0.3));\n",
              "      fill: #FFFFFF;\n",
              "    }\n",
              "  </style>\n",
              "\n",
              "    <script>\n",
              "      const buttonEl =\n",
              "        document.querySelector('#df-1dcbc878-2fa1-45a3-a3da-b6e1598d40da button.colab-df-convert');\n",
              "      buttonEl.style.display =\n",
              "        google.colab.kernel.accessAllowed ? 'block' : 'none';\n",
              "\n",
              "      async function convertToInteractive(key) {\n",
              "        const element = document.querySelector('#df-1dcbc878-2fa1-45a3-a3da-b6e1598d40da');\n",
              "        const dataTable =\n",
              "          await google.colab.kernel.invokeFunction('convertToInteractive',\n",
              "                                                    [key], {});\n",
              "        if (!dataTable) return;\n",
              "\n",
              "        const docLinkHtml = 'Like what you see? Visit the ' +\n",
              "          '<a target=\"_blank\" href=https://colab.research.google.com/notebooks/data_table.ipynb>data table notebook</a>'\n",
              "          + ' to learn more about interactive tables.';\n",
              "        element.innerHTML = '';\n",
              "        dataTable['output_type'] = 'display_data';\n",
              "        await google.colab.output.renderOutput(dataTable, element);\n",
              "        const docLink = document.createElement('div');\n",
              "        docLink.innerHTML = docLinkHtml;\n",
              "        element.appendChild(docLink);\n",
              "      }\n",
              "    </script>\n",
              "  </div>\n",
              "\n",
              "\n",
              "    <div id=\"df-d0a9d9f1-46e5-4b5a-b0ff-0ea27792c244\">\n",
              "      <button class=\"colab-df-quickchart\" onclick=\"quickchart('df-d0a9d9f1-46e5-4b5a-b0ff-0ea27792c244')\"\n",
              "                title=\"Suggest charts\"\n",
              "                style=\"display:none;\">\n",
              "\n",
              "<svg xmlns=\"http://www.w3.org/2000/svg\" height=\"24px\"viewBox=\"0 0 24 24\"\n",
              "     width=\"24px\">\n",
              "    <g>\n",
              "        <path d=\"M19 3H5c-1.1 0-2 .9-2 2v14c0 1.1.9 2 2 2h14c1.1 0 2-.9 2-2V5c0-1.1-.9-2-2-2zM9 17H7v-7h2v7zm4 0h-2V7h2v10zm4 0h-2v-4h2v4z\"/>\n",
              "    </g>\n",
              "</svg>\n",
              "      </button>\n",
              "\n",
              "<style>\n",
              "  .colab-df-quickchart {\n",
              "      --bg-color: #E8F0FE;\n",
              "      --fill-color: #1967D2;\n",
              "      --hover-bg-color: #E2EBFA;\n",
              "      --hover-fill-color: #174EA6;\n",
              "      --disabled-fill-color: #AAA;\n",
              "      --disabled-bg-color: #DDD;\n",
              "  }\n",
              "\n",
              "  [theme=dark] .colab-df-quickchart {\n",
              "      --bg-color: #3B4455;\n",
              "      --fill-color: #D2E3FC;\n",
              "      --hover-bg-color: #434B5C;\n",
              "      --hover-fill-color: #FFFFFF;\n",
              "      --disabled-bg-color: #3B4455;\n",
              "      --disabled-fill-color: #666;\n",
              "  }\n",
              "\n",
              "  .colab-df-quickchart {\n",
              "    background-color: var(--bg-color);\n",
              "    border: none;\n",
              "    border-radius: 50%;\n",
              "    cursor: pointer;\n",
              "    display: none;\n",
              "    fill: var(--fill-color);\n",
              "    height: 32px;\n",
              "    padding: 0;\n",
              "    width: 32px;\n",
              "  }\n",
              "\n",
              "  .colab-df-quickchart:hover {\n",
              "    background-color: var(--hover-bg-color);\n",
              "    box-shadow: 0 1px 2px rgba(60, 64, 67, 0.3), 0 1px 3px 1px rgba(60, 64, 67, 0.15);\n",
              "    fill: var(--button-hover-fill-color);\n",
              "  }\n",
              "\n",
              "  .colab-df-quickchart-complete:disabled,\n",
              "  .colab-df-quickchart-complete:disabled:hover {\n",
              "    background-color: var(--disabled-bg-color);\n",
              "    fill: var(--disabled-fill-color);\n",
              "    box-shadow: none;\n",
              "  }\n",
              "\n",
              "  .colab-df-spinner {\n",
              "    border: 2px solid var(--fill-color);\n",
              "    border-color: transparent;\n",
              "    border-bottom-color: var(--fill-color);\n",
              "    animation:\n",
              "      spin 1s steps(1) infinite;\n",
              "  }\n",
              "\n",
              "  @keyframes spin {\n",
              "    0% {\n",
              "      border-color: transparent;\n",
              "      border-bottom-color: var(--fill-color);\n",
              "      border-left-color: var(--fill-color);\n",
              "    }\n",
              "    20% {\n",
              "      border-color: transparent;\n",
              "      border-left-color: var(--fill-color);\n",
              "      border-top-color: var(--fill-color);\n",
              "    }\n",
              "    30% {\n",
              "      border-color: transparent;\n",
              "      border-left-color: var(--fill-color);\n",
              "      border-top-color: var(--fill-color);\n",
              "      border-right-color: var(--fill-color);\n",
              "    }\n",
              "    40% {\n",
              "      border-color: transparent;\n",
              "      border-right-color: var(--fill-color);\n",
              "      border-top-color: var(--fill-color);\n",
              "    }\n",
              "    60% {\n",
              "      border-color: transparent;\n",
              "      border-right-color: var(--fill-color);\n",
              "    }\n",
              "    80% {\n",
              "      border-color: transparent;\n",
              "      border-right-color: var(--fill-color);\n",
              "      border-bottom-color: var(--fill-color);\n",
              "    }\n",
              "    90% {\n",
              "      border-color: transparent;\n",
              "      border-bottom-color: var(--fill-color);\n",
              "    }\n",
              "  }\n",
              "</style>\n",
              "\n",
              "      <script>\n",
              "        async function quickchart(key) {\n",
              "          const quickchartButtonEl =\n",
              "            document.querySelector('#' + key + ' button');\n",
              "          quickchartButtonEl.disabled = true;  // To prevent multiple clicks.\n",
              "          quickchartButtonEl.classList.add('colab-df-spinner');\n",
              "          try {\n",
              "            const charts = await google.colab.kernel.invokeFunction(\n",
              "                'suggestCharts', [key], {});\n",
              "          } catch (error) {\n",
              "            console.error('Error during call to suggestCharts:', error);\n",
              "          }\n",
              "          quickchartButtonEl.classList.remove('colab-df-spinner');\n",
              "          quickchartButtonEl.classList.add('colab-df-quickchart-complete');\n",
              "        }\n",
              "        (() => {\n",
              "          let quickchartButtonEl =\n",
              "            document.querySelector('#df-d0a9d9f1-46e5-4b5a-b0ff-0ea27792c244 button');\n",
              "          quickchartButtonEl.style.display =\n",
              "            google.colab.kernel.accessAllowed ? 'block' : 'none';\n",
              "        })();\n",
              "      </script>\n",
              "    </div>\n",
              "\n",
              "    </div>\n",
              "  </div>\n"
            ],
            "application/vnd.google.colaboratory.intrinsic+json": {
              "type": "dataframe",
              "variable_name": "aq_df",
              "summary": "{\n  \"name\": \"aq_df\",\n  \"rows\": 35064,\n  \"fields\": [\n    {\n      \"column\": \"year_month_day_hour\",\n      \"properties\": {\n        \"dtype\": \"date\",\n        \"min\": \"2013-03-01 00:00:00\",\n        \"max\": \"2017-02-28 23:00:00\",\n        \"num_unique_values\": 35064,\n        \"samples\": [\n          \"2013-11-08 22:00:00\",\n          \"2016-11-18 08:00:00\",\n          \"2014-03-04 14:00:00\"\n        ],\n        \"semantic_type\": \"\",\n        \"description\": \"\"\n      }\n    },\n    {\n      \"column\": \"No\",\n      \"properties\": {\n        \"dtype\": \"number\",\n        \"std\": 10122,\n        \"min\": 1,\n        \"max\": 35064,\n        \"num_unique_values\": 35064,\n        \"samples\": [\n          6071,\n          32601,\n          8847\n        ],\n        \"semantic_type\": \"\",\n        \"description\": \"\"\n      }\n    },\n    {\n      \"column\": \"year\",\n      \"properties\": {\n        \"dtype\": \"object\",\n        \"num_unique_values\": 5,\n        \"samples\": [\n          \"2014\",\n          \"2017\",\n          \"2015\"\n        ],\n        \"semantic_type\": \"\",\n        \"description\": \"\"\n      }\n    },\n    {\n      \"column\": \"month\",\n      \"properties\": {\n        \"dtype\": \"category\",\n        \"num_unique_values\": 12,\n        \"samples\": [\n          \"1\",\n          \"12\",\n          \"3\"\n        ],\n        \"semantic_type\": \"\",\n        \"description\": \"\"\n      }\n    },\n    {\n      \"column\": \"day\",\n      \"properties\": {\n        \"dtype\": \"category\",\n        \"num_unique_values\": 31,\n        \"samples\": [\n          \"28\",\n          \"16\",\n          \"24\"\n        ],\n        \"semantic_type\": \"\",\n        \"description\": \"\"\n      }\n    },\n    {\n      \"column\": \"hour\",\n      \"properties\": {\n        \"dtype\": \"category\",\n        \"num_unique_values\": 24,\n        \"samples\": [\n          \"8\",\n          \"16\",\n          \"0\"\n        ],\n        \"semantic_type\": \"\",\n        \"description\": \"\"\n      }\n    },\n    {\n      \"column\": \"PM2.5\",\n      \"properties\": {\n        \"dtype\": \"number\",\n        \"std\": 72.26772326105251,\n        \"min\": 3.0,\n        \"max\": 881.0,\n        \"num_unique_values\": 486,\n        \"samples\": [\n          497.0,\n          218.0,\n          446.0\n        ],\n        \"semantic_type\": \"\",\n        \"description\": \"\"\n      }\n    },\n    {\n      \"column\": \"PM10\",\n      \"properties\": {\n        \"dtype\": \"number\",\n        \"std\": 79.54168456113032,\n        \"min\": 2.0,\n        \"max\": 905.0,\n        \"num_unique_values\": 554,\n        \"samples\": [\n          217.0,\n          278.0,\n          92.0\n        ],\n        \"semantic_type\": \"\",\n        \"description\": \"\"\n      }\n    },\n    {\n      \"column\": \"SO2\",\n      \"properties\": {\n        \"dtype\": \"number\",\n        \"std\": 15.519259061820346,\n        \"min\": 0.2856,\n        \"max\": 156.0,\n        \"num_unique_values\": 327,\n        \"samples\": [\n          42.2688,\n          3.7128,\n          33.9864\n        ],\n        \"semantic_type\": \"\",\n        \"description\": \"\"\n      }\n    },\n    {\n      \"column\": \"NO2\",\n      \"properties\": {\n        \"dtype\": \"number\",\n        \"std\": 26.383882215560995,\n        \"min\": 1.0265,\n        \"max\": 205.0,\n        \"num_unique_values\": 636,\n        \"samples\": [\n          50.2985,\n          205.0,\n          47.0\n        ],\n        \"semantic_type\": \"\",\n        \"description\": \"\"\n      }\n    },\n    {\n      \"column\": \"CO\",\n      \"properties\": {\n        \"dtype\": \"number\",\n        \"std\": 903.3062200927303,\n        \"min\": 100.0,\n        \"max\": 10000.0,\n        \"num_unique_values\": 103,\n        \"samples\": [\n          4900.0,\n          5300.0,\n          1150.0\n        ],\n        \"semantic_type\": \"\",\n        \"description\": \"\"\n      }\n    },\n    {\n      \"column\": \"O3\",\n      \"properties\": {\n        \"dtype\": \"number\",\n        \"std\": 53.764424005934124,\n        \"min\": 0.2142,\n        \"max\": 500.0,\n        \"num_unique_values\": 792,\n        \"samples\": [\n          288.0,\n          54.8352,\n          17.3502\n        ],\n        \"semantic_type\": \"\",\n        \"description\": \"\"\n      }\n    },\n    {\n      \"column\": \"TEMP\",\n      \"properties\": {\n        \"dtype\": \"number\",\n        \"std\": 11.365312950580158,\n        \"min\": -16.6,\n        \"max\": 41.4,\n        \"num_unique_values\": 998,\n        \"samples\": [\n          -5.5,\n          -0.75,\n          20.0\n        ],\n        \"semantic_type\": \"\",\n        \"description\": \"\"\n      }\n    },\n    {\n      \"column\": \"PRES\",\n      \"properties\": {\n        \"dtype\": \"number\",\n        \"std\": 10.225663528983354,\n        \"min\": 982.4,\n        \"max\": 1036.5,\n        \"num_unique_values\": 593,\n        \"samples\": [\n          1020.6,\n          1011.0,\n          1001.6\n        ],\n        \"semantic_type\": \"\",\n        \"description\": \"\"\n      }\n    },\n    {\n      \"column\": \"DEWP\",\n      \"properties\": {\n        \"dtype\": \"number\",\n        \"std\": 13.822098888069853,\n        \"min\": -35.1,\n        \"max\": 27.2,\n        \"num_unique_values\": 602,\n        \"samples\": [\n          -0.8,\n          22.1,\n          -27.5\n        ],\n        \"semantic_type\": \"\",\n        \"description\": \"\"\n      }\n    },\n    {\n      \"column\": \"RAIN\",\n      \"properties\": {\n        \"dtype\": \"number\",\n        \"std\": 0.7528993068242544,\n        \"min\": 0.0,\n        \"max\": 52.1,\n        \"num_unique_values\": 116,\n        \"samples\": [\n          23.7,\n          0.1,\n          3.3\n        ],\n        \"semantic_type\": \"\",\n        \"description\": \"\"\n      }\n    },\n    {\n      \"column\": \"wd\",\n      \"properties\": {\n        \"dtype\": \"category\",\n        \"num_unique_values\": 16,\n        \"samples\": [\n          \"E\",\n          \"ENE\",\n          \"NW\"\n        ],\n        \"semantic_type\": \"\",\n        \"description\": \"\"\n      }\n    },\n    {\n      \"column\": \"WSPM\",\n      \"properties\": {\n        \"dtype\": \"number\",\n        \"std\": 1.3098083299252283,\n        \"min\": 0.0,\n        \"max\": 10.0,\n        \"num_unique_values\": 95,\n        \"samples\": [\n          7.0,\n          1.3,\n          4.8\n        ],\n        \"semantic_type\": \"\",\n        \"description\": \"\"\n      }\n    },\n    {\n      \"column\": \"station\",\n      \"properties\": {\n        \"dtype\": \"category\",\n        \"num_unique_values\": 1,\n        \"samples\": [\n          \"Dingling\"\n        ],\n        \"semantic_type\": \"\",\n        \"description\": \"\"\n      }\n    }\n  ]\n}"
            }
          },
          "metadata": {},
          "execution_count": 38
        }
      ]
    },
    {
      "cell_type": "code",
      "source": [
        "aq_df = aq_df.ffill()"
      ],
      "metadata": {
        "id": "C1tkJiRREFE1"
      },
      "execution_count": 39,
      "outputs": []
    },
    {
      "cell_type": "code",
      "metadata": {
        "id": "sFj88b1w7COe"
      },
      "source": [
        "from statsmodels.tsa.stattools import kpss"
      ],
      "execution_count": 40,
      "outputs": []
    },
    {
      "cell_type": "code",
      "metadata": {
        "id": "JYga3cH17CIf",
        "colab": {
          "base_uri": "https://localhost:8080/"
        },
        "outputId": "f3dc8fec-ce2e-4809-a18e-8f08a9e10f93"
      },
      "source": [
        "tstest = kpss(aq_df['TEMP'], 'ct')"
      ],
      "execution_count": 41,
      "outputs": [
        {
          "output_type": "stream",
          "name": "stderr",
          "text": [
            "/tmp/ipython-input-2713393483.py:1: InterpolationWarning: The test statistic is outside of the range of p-values available in the\n",
            "look-up table. The actual p-value is smaller than the p-value returned.\n",
            "\n",
            "  tstest = kpss(aq_df['TEMP'], 'ct')\n"
          ]
        }
      ]
    },
    {
      "cell_type": "code",
      "metadata": {
        "id": "VkNGL3fH7B-j",
        "colab": {
          "base_uri": "https://localhost:8080/"
        },
        "outputId": "3d349e30-c739-4100-e55e-1723e607a446"
      },
      "source": [
        "tstest"
      ],
      "execution_count": 42,
      "outputs": [
        {
          "output_type": "execute_result",
          "data": {
            "text/plain": [
              "(np.float64(0.5452254399079532),\n",
              " np.float64(0.01),\n",
              " 110,\n",
              " {'10%': 0.119, '5%': 0.146, '2.5%': 0.176, '1%': 0.216})"
            ]
          },
          "metadata": {},
          "execution_count": 42
        }
      ]
    },
    {
      "cell_type": "markdown",
      "metadata": {
        "id": "NJQ8LlnVl8-r"
      },
      "source": [
        "Additive - ![alt text](https://wikimedia.org/api/rest_v1/media/math/render/svg/ec813268e453864276769e12a207c653f0ef67e6)\n",
        "\n",
        "Multiplicative - ![alt text](https://wikimedia.org/api/rest_v1/media/math/render/svg/b3849db82617c2bd2cfe3dc5302496e6468020b9)"
      ]
    },
    {
      "cell_type": "code",
      "metadata": {
        "colab": {
          "base_uri": "https://localhost:8080/",
          "height": 607
        },
        "id": "mnH16NbmGDE",
        "outputId": "270c1617-a6e5-4790-b4fc-c7114de0276d"
      },
      "source": [
        "import pandas as pd\n",
        "import statsmodels.api as sm\n",
        "\n",
        "# Ensure a proper DatetimeIndex with a fixed daily frequency\n",
        "aq_df = aq_df.sort_values('year_month_day_hour').set_index('year_month_day_hour').asfreq('D')\n",
        "\n",
        "res = sm.tsa.seasonal_decompose(\n",
        "    aq_df['TEMP'],\n",
        "    model='additive',   # or 'multiplicative'\n",
        "    period=365          # <- set the seasonal period here\n",
        ")\n",
        "\n",
        "res.plot();\n"
      ],
      "execution_count": 43,
      "outputs": [
        {
          "output_type": "display_data",
          "data": {
            "text/plain": [
              "<Figure size 800x600 with 4 Axes>"
            ],
            "image/png": "[encoded data removed]"
          },
          "metadata": {}
        }
      ]
    },
    {
      "cell_type": "code",
      "source": [
        "import pandas as pd\n",
        "import statsmodels.api as sm\n",
        "\n",
        "# Ensure a proper DatetimeIndex with a fixed daily frequency\n",
        "# aq_df = aq_df.sort_values('year_month_day_hour').set_index('year_month_day_hour').asfreq('D')\n",
        "\n",
        "res = sm.tsa.seasonal_decompose(\n",
        "    aq_df['PM2.5'],\n",
        "    model='additive',   # or 'multiplicative'\n",
        "    period=365          # <- set the seasonal period here\n",
        ")\n",
        "\n",
        "res.plot();"
      ],
      "metadata": {
        "colab": {
          "base_uri": "https://localhost:8080/",
          "height": 607
        },
        "id": "o0Lrt6TvDlZC",
        "outputId": "98caae8b-0fef-4639-a3cb-d2e25a27b248"
      },
      "execution_count": 53,
      "outputs": [
        {
          "output_type": "display_data",
          "data": {
            "text/plain": [
              "<Figure size 800x600 with 4 Axes>"
            ],
            "image/png": "[encoded data removed]"
          },
          "metadata": {}
        }
      ]
    },
    {
      "cell_type": "code",
      "metadata": {
        "id": "bK4qpB5tf42W",
        "colab": {
          "base_uri": "https://localhost:8080/",
          "height": 490
        },
        "outputId": "4e52f6bb-8690-4d78-d986-56faa48137aa"
      },
      "source": [
        "res.observed"
      ],
      "execution_count": 44,
      "outputs": [
        {
          "output_type": "execute_result",
          "data": {
            "text/plain": [
              "year_month_day_hour\n",
              "2013-03-01   -2.3\n",
              "2013-03-02   -0.5\n",
              "2013-03-03   -2.4\n",
              "2013-03-04    9.2\n",
              "2013-03-05    2.8\n",
              "             ... \n",
              "2017-02-24    0.2\n",
              "2017-02-25    4.5\n",
              "2017-02-26    2.9\n",
              "2017-02-27    2.9\n",
              "2017-02-28    9.7\n",
              "Freq: D, Name: TEMP, Length: 1461, dtype: float64"
            ],
            "text/html": [
              "<div>\n",
              "<style scoped>\n",
              "    .dataframe tbody tr th:only-of-type {\n",
              "        vertical-align: middle;\n",
              "    }\n",
              "\n",
              "    .dataframe tbody tr th {\n",
              "        vertical-align: top;\n",
              "    }\n",
              "\n",
              "    .dataframe thead th {\n",
              "        text-align: right;\n",
              "    }\n",
              "</style>\n",
              "<table border=\"1\" class=\"dataframe\">\n",
              "  <thead>\n",
              "    <tr style=\"text-align: right;\">\n",
              "      <th></th>\n",
              "      <th>TEMP</th>\n",
              "    </tr>\n",
              "    <tr>\n",
              "      <th>year_month_day_hour</th>\n",
              "      <th></th>\n",
              "    </tr>\n",
              "  </thead>\n",
              "  <tbody>\n",
              "    <tr>\n",
              "      <th>2013-03-01</th>\n",
              "      <td>-2.3</td>\n",
              "    </tr>\n",
              "    <tr>\n",
              "      <th>2013-03-02</th>\n",
              "      <td>-0.5</td>\n",
              "    </tr>\n",
              "    <tr>\n",
              "      <th>2013-03-03</th>\n",
              "      <td>-2.4</td>\n",
              "    </tr>\n",
              "    <tr>\n",
              "      <th>2013-03-04</th>\n",
              "      <td>9.2</td>\n",
              "    </tr>\n",
              "    <tr>\n",
              "      <th>2013-03-05</th>\n",
              "      <td>2.8</td>\n",
              "    </tr>\n",
              "    <tr>\n",
              "      <th>...</th>\n",
              "      <td>...</td>\n",
              "    </tr>\n",
              "    <tr>\n",
              "      <th>2017-02-24</th>\n",
              "      <td>0.2</td>\n",
              "    </tr>\n",
              "    <tr>\n",
              "      <th>2017-02-25</th>\n",
              "      <td>4.5</td>\n",
              "    </tr>\n",
              "    <tr>\n",
              "      <th>2017-02-26</th>\n",
              "      <td>2.9</td>\n",
              "    </tr>\n",
              "    <tr>\n",
              "      <th>2017-02-27</th>\n",
              "      <td>2.9</td>\n",
              "    </tr>\n",
              "    <tr>\n",
              "      <th>2017-02-28</th>\n",
              "      <td>9.7</td>\n",
              "    </tr>\n",
              "  </tbody>\n",
              "</table>\n",
              "<p>1461 rows × 1 columns</p>\n",
              "</div><br><label><b>dtype:</b> float64</label>"
            ]
          },
          "metadata": {},
          "execution_count": 44
        }
      ]
    },
    {
      "cell_type": "code",
      "metadata": {
        "id": "HM6ykxDggKoR",
        "colab": {
          "base_uri": "https://localhost:8080/"
        },
        "outputId": "39589697-154f-447d-8dfd-67c828329b18"
      },
      "source": [
        "print(res.trend)"
      ],
      "execution_count": 45,
      "outputs": [
        {
          "output_type": "stream",
          "name": "stdout",
          "text": [
            "year_month_day_hour\n",
            "2013-03-01   NaN\n",
            "2013-03-02   NaN\n",
            "2013-03-03   NaN\n",
            "2013-03-04   NaN\n",
            "2013-03-05   NaN\n",
            "              ..\n",
            "2017-02-24   NaN\n",
            "2017-02-25   NaN\n",
            "2017-02-26   NaN\n",
            "2017-02-27   NaN\n",
            "2017-02-28   NaN\n",
            "Freq: D, Name: trend, Length: 1461, dtype: float64\n"
          ]
        }
      ]
    },
    {
      "cell_type": "code",
      "metadata": {
        "id": "258ydKSrGf42",
        "colab": {
          "base_uri": "https://localhost:8080/"
        },
        "outputId": "c2741518-2791-48f3-eb8a-b18b787fbcdb"
      },
      "source": [
        "print(res.seasonal)"
      ],
      "execution_count": 46,
      "outputs": [
        {
          "output_type": "stream",
          "name": "stdout",
          "text": [
            "year_month_day_hour\n",
            "2013-03-01   -11.588491\n",
            "2013-03-02   -11.126208\n",
            "2013-03-03    -7.995341\n",
            "2013-03-04   -10.099907\n",
            "2013-03-05   -10.602646\n",
            "                ...    \n",
            "2017-02-24   -11.062829\n",
            "2017-02-25   -10.693057\n",
            "2017-02-26    -8.523286\n",
            "2017-02-27   -10.322281\n",
            "2017-02-28   -11.588491\n",
            "Freq: D, Name: seasonal, Length: 1461, dtype: float64\n"
          ]
        }
      ]
    },
    {
      "cell_type": "code",
      "metadata": {
        "id": "hke7g2lCGf08",
        "colab": {
          "base_uri": "https://localhost:8080/",
          "height": 490
        },
        "outputId": "246a7e0e-d877-4da3-c326-28004a88e104"
      },
      "source": [
        "res.resid"
      ],
      "execution_count": 47,
      "outputs": [
        {
          "output_type": "execute_result",
          "data": {
            "text/plain": [
              "year_month_day_hour\n",
              "2013-03-01   NaN\n",
              "2013-03-02   NaN\n",
              "2013-03-03   NaN\n",
              "2013-03-04   NaN\n",
              "2013-03-05   NaN\n",
              "              ..\n",
              "2017-02-24   NaN\n",
              "2017-02-25   NaN\n",
              "2017-02-26   NaN\n",
              "2017-02-27   NaN\n",
              "2017-02-28   NaN\n",
              "Freq: D, Name: resid, Length: 1461, dtype: float64"
            ],
            "text/html": [
              "<div>\n",
              "<style scoped>\n",
              "    .dataframe tbody tr th:only-of-type {\n",
              "        vertical-align: middle;\n",
              "    }\n",
              "\n",
              "    .dataframe tbody tr th {\n",
              "        vertical-align: top;\n",
              "    }\n",
              "\n",
              "    .dataframe thead th {\n",
              "        text-align: right;\n",
              "    }\n",
              "</style>\n",
              "<table border=\"1\" class=\"dataframe\">\n",
              "  <thead>\n",
              "    <tr style=\"text-align: right;\">\n",
              "      <th></th>\n",
              "      <th>resid</th>\n",
              "    </tr>\n",
              "    <tr>\n",
              "      <th>year_month_day_hour</th>\n",
              "      <th></th>\n",
              "    </tr>\n",
              "  </thead>\n",
              "  <tbody>\n",
              "    <tr>\n",
              "      <th>2013-03-01</th>\n",
              "      <td>NaN</td>\n",
              "    </tr>\n",
              "    <tr>\n",
              "      <th>2013-03-02</th>\n",
              "      <td>NaN</td>\n",
              "    </tr>\n",
              "    <tr>\n",
              "      <th>2013-03-03</th>\n",
              "      <td>NaN</td>\n",
              "    </tr>\n",
              "    <tr>\n",
              "      <th>2013-03-04</th>\n",
              "      <td>NaN</td>\n",
              "    </tr>\n",
              "    <tr>\n",
              "      <th>2013-03-05</th>\n",
              "      <td>NaN</td>\n",
              "    </tr>\n",
              "    <tr>\n",
              "      <th>...</th>\n",
              "      <td>...</td>\n",
              "    </tr>\n",
              "    <tr>\n",
              "      <th>2017-02-24</th>\n",
              "      <td>NaN</td>\n",
              "    </tr>\n",
              "    <tr>\n",
              "      <th>2017-02-25</th>\n",
              "      <td>NaN</td>\n",
              "    </tr>\n",
              "    <tr>\n",
              "      <th>2017-02-26</th>\n",
              "      <td>NaN</td>\n",
              "    </tr>\n",
              "    <tr>\n",
              "      <th>2017-02-27</th>\n",
              "      <td>NaN</td>\n",
              "    </tr>\n",
              "    <tr>\n",
              "      <th>2017-02-28</th>\n",
              "      <td>NaN</td>\n",
              "    </tr>\n",
              "  </tbody>\n",
              "</table>\n",
              "<p>1461 rows × 1 columns</p>\n",
              "</div><br><label><b>dtype:</b> float64</label>"
            ]
          },
          "metadata": {},
          "execution_count": 47
        }
      ]
    },
    {
      "cell_type": "code",
      "metadata": {
        "id": "W6HJ3x6c7BsM"
      },
      "source": [],
      "execution_count": null,
      "outputs": []
    },
    {
      "cell_type": "code",
      "metadata": {
        "id": "MEuGJP_47BkO"
      },
      "source": [],
      "execution_count": null,
      "outputs": []
    },
    {
      "cell_type": "code",
      "metadata": {
        "id": "JSQiNN3O7BcW"
      },
      "source": [],
      "execution_count": null,
      "outputs": []
    },
    {
      "cell_type": "code",
      "metadata": {
        "id": "3YTClJan7BXp"
      },
      "source": [],
      "execution_count": null,
      "outputs": []
    },
    {
      "cell_type": "code",
      "metadata": {
        "id": "2cqf9DCw7BQ1"
      },
      "source": [],
      "execution_count": null,
      "outputs": []
    },
    {
      "cell_type": "code",
      "metadata": {
        "id": "spplBHEd7BNa"
      },
      "source": [],
      "execution_count": null,
      "outputs": []
    },
    {
      "cell_type": "code",
      "metadata": {
        "id": "wweOKjZY7BH5"
      },
      "source": [],
      "execution_count": null,
      "outputs": []
    },
    {
      "cell_type": "code",
      "metadata": {
        "id": "wN-uoLef7BBQ"
      },
      "source": [],
      "execution_count": null,
      "outputs": []
    },
    {
      "cell_type": "code",
      "metadata": {
        "id": "2dQyQT3u7A7C"
      },
      "source": [],
      "execution_count": null,
      "outputs": []
    },
    {
      "cell_type": "code",
      "metadata": {
        "id": "UQbqW-pR7A12"
      },
      "source": [],
      "execution_count": null,
      "outputs": []
    },
    {
      "cell_type": "code",
      "metadata": {
        "id": "iduBvINjGJkS"
      },
      "source": [],
      "execution_count": null,
      "outputs": []
    },
    {
      "cell_type": "code",
      "metadata": {
        "id": "kspwn48pP26T"
      },
      "source": [],
      "execution_count": null,
      "outputs": []
    },
    {
      "cell_type": "code",
      "metadata": {
        "id": "BfabroCTP2s0"
      },
      "source": [],
      "execution_count": null,
      "outputs": []
    },
    {
      "cell_type": "code",
      "metadata": {
        "id": "9p5vOOxgVAh8"
      },
      "source": [],
      "execution_count": null,
      "outputs": []
    },
    {
      "cell_type": "code",
      "metadata": {
        "id": "r1eWVZXwVAeO"
      },
      "source": [],
      "execution_count": null,
      "outputs": []
    },
    {
      "cell_type": "code",
      "metadata": {
        "id": "QzKEnIUPVAbb"
      },
      "source": [],
      "execution_count": null,
      "outputs": []
    },
    {
      "cell_type": "code",
      "metadata": {
        "id": "zyy8lFIUVAX4"
      },
      "source": [],
      "execution_count": null,
      "outputs": []
    },
    {
      "cell_type": "code",
      "metadata": {
        "id": "QWy3v14rVAUh"
      },
      "source": [],
      "execution_count": null,
      "outputs": []
    },
    {
      "cell_type": "code",
      "metadata": {
        "id": "ajWqia3yGkv8"
      },
      "source": [
        "bill_2018 = bill_df['2016':'2018'][['Billed_amount']]"
      ],
      "execution_count": null,
      "outputs": []
    },
    {
      "cell_type": "code",
      "metadata": {
        "id": "PEn1c460HOdL"
      },
      "source": [
        "bill_2018"
      ],
      "execution_count": null,
      "outputs": []
    },
    {
      "cell_type": "markdown",
      "metadata": {
        "id": "HpS41rSyzH1m"
      },
      "source": [
        "Simple moving average = (t + (t-1) + (t-2) + ... + (t-n)) / n"
      ]
    },
    {
      "cell_type": "code",
      "metadata": {
        "id": "UBvYPmh1E885"
      },
      "source": [
        "bill_2018['Billed_amount'].rolling(window=3).mean()"
      ],
      "execution_count": null,
      "outputs": []
    },
    {
      "cell_type": "code",
      "metadata": {
        "id": "dz-eNupME86J"
      },
      "source": [
        "bill_2018['ma_rolling_3']=bill_2018['Billed_amount'].rolling(window=3).mean().shift(1)"
      ],
      "execution_count": null,
      "outputs": []
    },
    {
      "cell_type": "code",
      "metadata": {
        "id": "T-SphqTYE82u"
      },
      "source": [
        "bill_2018"
      ],
      "execution_count": null,
      "outputs": []
    },
    {
      "cell_type": "code",
      "metadata": {
        "id": "paiqHYifM7bO"
      },
      "source": [
        "bill_2018.plot();"
      ],
      "execution_count": null,
      "outputs": []
    },
    {
      "cell_type": "markdown",
      "metadata": {
        "id": "bxzVBI463G-O"
      },
      "source": [
        "Weighted moving average = (t * weighting factor) + ((t-1) * weighting factor-1) + ((t-n) * weighting factor-n)/n"
      ]
    },
    {
      "cell_type": "code",
      "metadata": {
        "id": "3h7wFgM5E8qE"
      },
      "source": [
        "def wma(weights):\n",
        "  def calc(x):\n",
        "    return (weights*x).mean()\n",
        "  return calc"
      ],
      "execution_count": null,
      "outputs": []
    },
    {
      "cell_type": "code",
      "metadata": {
        "id": "7Q1-fNJYE8gz"
      },
      "source": [
        "bill_2018['Billed_amount'].rolling(window=3).apply(wma(np.array([0.5,1,1.5])))"
      ],
      "execution_count": null,
      "outputs": []
    },
    {
      "cell_type": "code",
      "metadata": {
        "id": "U5ha0--uJ51C"
      },
      "source": [
        "bill_2018['wma_rolling_3']=bill_2018['Billed_amount'].rolling(window=3).apply(wma(np.array([0.5,1,1.5]))).shift(1)"
      ],
      "execution_count": null,
      "outputs": []
    },
    {
      "cell_type": "code",
      "metadata": {
        "id": "Nr17yUpGaGOr"
      },
      "source": [
        "bill_2018"
      ],
      "execution_count": null,
      "outputs": []
    },
    {
      "cell_type": "code",
      "metadata": {
        "id": "DBlVXvBQaGLU"
      },
      "source": [
        "bill_2018.plot()"
      ],
      "execution_count": null,
      "outputs": []
    },
    {
      "cell_type": "markdown",
      "metadata": {
        "id": "OjHcOxANyWiM"
      },
      "source": [
        "Exponential moving average = (Close - previous EMA) * (2/(span+1)) + previous EMA\n"
      ]
    },
    {
      "cell_type": "code",
      "metadata": {
        "id": "q99o4C3Cgmwu"
      },
      "source": [
        "bill_2018['Billed_amount'].ewm(span=3, adjust=False, min_periods=0).mean()"
      ],
      "execution_count": null,
      "outputs": []
    },
    {
      "cell_type": "code",
      "metadata": {
        "id": "hCDd1DWeguGC"
      },
      "source": [
        "bill_2018['ewm_window_3']=bill_2018['Billed_amount'].ewm(span=3, adjust=False, min_periods=0).mean().shift(1)"
      ],
      "execution_count": null,
      "outputs": []
    },
    {
      "cell_type": "code",
      "metadata": {
        "id": "kG6ZlZ4UguC7"
      },
      "source": [
        "bill_2018"
      ],
      "execution_count": null,
      "outputs": []
    },
    {
      "cell_type": "code",
      "metadata": {
        "id": "9VAuv52jgt9K"
      },
      "source": [
        "bill_2018.plot()"
      ],
      "execution_count": null,
      "outputs": []
    },
    {
      "cell_type": "markdown",
      "metadata": {
        "id": "dKpz4jS5ESTR"
      },
      "source": [
        "Exponential Smoothing -"
      ]
    },
    {
      "cell_type": "markdown",
      "metadata": {
        "id": "p66z2la9Xmqv"
      },
      "source": [
        "![alt text](https://people.duke.edu/~rnau/411avg_files/image028.png)"
      ]
    },
    {
      "cell_type": "code",
      "metadata": {
        "id": "NvObBoi3_eNz"
      },
      "source": [
        "bill_2018['Billed_amount'].ewm(alpha=0.7, adjust=False, min_periods=3).mean()"
      ],
      "execution_count": null,
      "outputs": []
    },
    {
      "cell_type": "code",
      "metadata": {
        "id": "QOXhMIhH_eLm"
      },
      "source": [
        "bill_2018['esm_window_3_7']=bill_2018['Billed_amount'].ewm(alpha=0.7, adjust=False,min_periods=3).mean().shift(1)"
      ],
      "execution_count": null,
      "outputs": []
    },
    {
      "cell_type": "code",
      "metadata": {
        "id": "LD8mhtOx_eHx"
      },
      "source": [
        "bill_2018"
      ],
      "execution_count": null,
      "outputs": []
    },
    {
      "cell_type": "code",
      "metadata": {
        "id": "e5mQAAKx_eFY"
      },
      "source": [
        "bill_2018[['Billed_amount','esm_window_3_7']].plot()"
      ],
      "execution_count": null,
      "outputs": []
    },
    {
      "cell_type": "code",
      "metadata": {
        "id": "b8rRNAbrfcWu"
      },
      "source": [
        "bill_2018.plot()"
      ],
      "execution_count": null,
      "outputs": []
    },
    {
      "cell_type": "code",
      "metadata": {
        "id": "uCttA7EM_eCg"
      },
      "source": [
        "bill_2018['Billed_amount'].ewm(alpha=0.3, adjust=False, min_periods=3).mean()"
      ],
      "execution_count": null,
      "outputs": []
    },
    {
      "cell_type": "code",
      "metadata": {
        "id": "rNmsEDBw_d_s"
      },
      "source": [
        "bill_2018['esm_window_3_3']=bill_2018['Billed_amount'].ewm(alpha=0.3, adjust=False,min_periods=3).mean().shift(1)"
      ],
      "execution_count": null,
      "outputs": []
    },
    {
      "cell_type": "code",
      "metadata": {
        "id": "vyFxXg_U_d8q"
      },
      "source": [
        "bill_2018"
      ],
      "execution_count": null,
      "outputs": []
    },
    {
      "cell_type": "code",
      "metadata": {
        "id": "i5K4-vwa_d5s"
      },
      "source": [
        "bill_2018[['Billed_amount','esm_window_3_3']].plot()"
      ],
      "execution_count": null,
      "outputs": []
    },
    {
      "cell_type": "code",
      "metadata": {
        "id": "-71-HtqP_d3I"
      },
      "source": [
        "bill_2018[['Billed_amount','esm_window_3_7', 'esm_window_3_3']].plot()"
      ],
      "execution_count": null,
      "outputs": []
    },
    {
      "cell_type": "markdown",
      "metadata": {
        "id": "uhcPr9xknBNt"
      },
      "source": [
        "![alt text](data:image/png;base64,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)"
      ]
    },
    {
      "cell_type": "code",
      "metadata": {
        "id": "HYvGM7b-_dxS"
      },
      "source": [
        "((bill_2018['Billed_amount']-bill_2018['ma_rolling_3'])**2).mean()**0.5"
      ],
      "execution_count": null,
      "outputs": []
    },
    {
      "cell_type": "code",
      "metadata": {
        "id": "1arUawX-_dt3"
      },
      "source": [
        "((bill_2018['Billed_amount']-bill_2018['wma_rolling_3'])**2).mean()**0.5"
      ],
      "execution_count": null,
      "outputs": []
    },
    {
      "cell_type": "code",
      "metadata": {
        "id": "MUWkFpAl_dqN"
      },
      "source": [
        "((bill_2018['Billed_amount']-bill_2018['ewm_window_3'])**2).mean()**0.5"
      ],
      "execution_count": null,
      "outputs": []
    },
    {
      "cell_type": "code",
      "metadata": {
        "id": "sKzKitcI_dnB"
      },
      "source": [
        "((bill_2018['Billed_amount']-bill_2018['esm_window_3_7'])**2).mean()**0.5"
      ],
      "execution_count": null,
      "outputs": []
    },
    {
      "cell_type": "code",
      "metadata": {
        "id": "V44L0DG3_dhD"
      },
      "source": [
        "((bill_2018['Billed_amount']-bill_2018['esm_window_3_3'])**2).mean()**0.5"
      ],
      "execution_count": null,
      "outputs": []
    },
    {
      "cell_type": "code",
      "metadata": {
        "id": "hxnUdIbEJ5pd"
      },
      "source": [],
      "execution_count": null,
      "outputs": []
    },
    {
      "cell_type": "code",
      "metadata": {
        "id": "pZzw8yNCn5z_"
      },
      "source": [],
      "execution_count": null,
      "outputs": []
    },
    {
      "cell_type": "code",
      "metadata": {
        "id": "SX_p7Hlmn5xS"
      },
      "source": [],
      "execution_count": null,
      "outputs": []
    },
    {
      "cell_type": "code",
      "metadata": {
        "id": "A5Rv8Eq5n5vi"
      },
      "source": [],
      "execution_count": null,
      "outputs": []
    },
    {
      "cell_type": "code",
      "metadata": {
        "id": "GXj6EP8Cn5te"
      },
      "source": [],
      "execution_count": null,
      "outputs": []
    },
    {
      "cell_type": "code",
      "metadata": {
        "id": "1gXNI_7_n5o5"
      },
      "source": [],
      "execution_count": null,
      "outputs": []
    },
    {
      "cell_type": "code",
      "metadata": {
        "id": "hTEY6KBan5nf"
      },
      "source": [],
      "execution_count": null,
      "outputs": []
    },
    {
      "cell_type": "code",
      "metadata": {
        "id": "okfQ8A9Un5ja"
      },
      "source": [],
      "execution_count": null,
      "outputs": []
    },
    {
      "cell_type": "code",
      "metadata": {
        "id": "4DiDtpP3n5g-"
      },
      "source": [],
      "execution_count": null,
      "outputs": []
    },
    {
      "cell_type": "code",
      "metadata": {
        "id": "pl58zDrHn5dP"
      },
      "source": [],
      "execution_count": null,
      "outputs": []
    },
    {
      "cell_type": "code",
      "metadata": {
        "id": "Efyh6nbVqZyK"
      },
      "source": [],
      "execution_count": null,
      "outputs": []
    },
    {
      "cell_type": "code",
      "metadata": {
        "id": "39JW1HZcqZwl"
      },
      "source": [],
      "execution_count": null,
      "outputs": []
    },
    {
      "cell_type": "code",
      "metadata": {
        "id": "RCmLUUvLqZpx"
      },
      "source": [],
      "execution_count": null,
      "outputs": []
    },
    {
      "cell_type": "code",
      "metadata": {
        "id": "vpbb5CVgqZle"
      },
      "source": [],
      "execution_count": null,
      "outputs": []
    },
    {
      "cell_type": "code",
      "metadata": {
        "id": "TUztrPS-n5aA"
      },
      "source": [],
      "execution_count": null,
      "outputs": []
    },
    {
      "cell_type": "code",
      "metadata": {
        "id": "heaGQsy2n5WM"
      },
      "source": [],
      "execution_count": null,
      "outputs": []
    },
    {
      "cell_type": "code",
      "metadata": {
        "id": "YVcwf7H6J5K4"
      },
      "source": [],
      "execution_count": null,
      "outputs": []
    },
    {
      "cell_type": "code",
      "metadata": {
        "id": "H9VdEjmw5CwA"
      },
      "source": [
        "ml_dict['FB_Prophet']['forecast']"
      ],
      "execution_count": null,
      "outputs": []
    },
    {
      "cell_type": "code",
      "metadata": {
        "id": "kkHpfx405Cr2"
      },
      "source": [],
      "execution_count": null,
      "outputs": []
    }
  ]
}